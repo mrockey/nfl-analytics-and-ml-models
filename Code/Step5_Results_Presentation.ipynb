{
 "cells": [
  {
   "cell_type": "markdown",
   "metadata": {},
   "source": [
    "# Results Presentation\n",
    "\n",
    "#### We used R shiny app to present our results from line movement prediction and win/lose prediction. Audiences can use provided link to examine the prediction results and model performance to make their own selections on game betting."
   ]
  },
  {
   "cell_type": "code",
   "execution_count": 9,
   "metadata": {},
   "outputs": [
    {
     "data": {
      "text/html": [
       "<ol class=list-inline>\n",
       "\t<li>'sending incremental file list'</li>\n",
       "\t<li>'R_shiny_app/'</li>\n",
       "\t<li>'R_shiny_app/app.R'</li>\n",
       "\t<li><span style=white-space:pre-wrap>'\\r          3,512 100%    0.00kB/s    0:00:00  \\r          3,512 100%    0.00kB/s    0:00:00 (xfr#1, to-chk=1/4)'</span></li>\n",
       "\t<li>''</li>\n",
       "\t<li><span style=white-space:pre-wrap>'sent 3,742 bytes  received 40 bytes  7,564.00 bytes/sec'</span></li>\n",
       "\t<li><span style=white-space:pre-wrap>'total size is 58,077  speedup is 15.36'</span></li>\n",
       "</ol>\n"
      ],
      "text/latex": [
       "\\begin{enumerate*}\n",
       "\\item 'sending incremental file list'\n",
       "\\item 'R\\_shiny\\_app/'\n",
       "\\item 'R\\_shiny\\_app/app.R'\n",
       "\\item '\\textbackslash{}r          3,512 100\\%    0.00kB/s    0:00:00  \\textbackslash{}r          3,512 100\\%    0.00kB/s    0:00:00 (xfr\\#1, to-chk=1/4)'\n",
       "\\item ''\n",
       "\\item 'sent 3,742 bytes  received 40 bytes  7,564.00 bytes/sec'\n",
       "\\item 'total size is 58,077  speedup is 15.36'\n",
       "\\end{enumerate*}\n"
      ],
      "text/markdown": [
       "1. 'sending incremental file list'\n",
       "2. 'R_shiny_app/'\n",
       "3. 'R_shiny_app/app.R'\n",
       "4. <span style=white-space:pre-wrap>'\\r          3,512 100%    0.00kB/s    0:00:00  \\r          3,512 100%    0.00kB/s    0:00:00 (xfr#1, to-chk=1/4)'</span>\n",
       "5. ''\n",
       "6. <span style=white-space:pre-wrap>'sent 3,742 bytes  received 40 bytes  7,564.00 bytes/sec'</span>\n",
       "7. <span style=white-space:pre-wrap>'total size is 58,077  speedup is 15.36'</span>\n",
       "\n",
       "\n"
      ],
      "text/plain": [
       "[1] \"sending incremental file list\"                                                                                   \n",
       "[2] \"R_shiny_app/\"                                                                                                    \n",
       "[3] \"R_shiny_app/app.R\"                                                                                               \n",
       "[4] \"\\r          3,512 100%    0.00kB/s    0:00:00  \\r          3,512 100%    0.00kB/s    0:00:00 (xfr#1, to-chk=1/4)\"\n",
       "[5] \"\"                                                                                                                \n",
       "[6] \"sent 3,742 bytes  received 40 bytes  7,564.00 bytes/sec\"                                                         \n",
       "[7] \"total size is 58,077  speedup is 15.36\"                                                                          "
      ]
     },
     "metadata": {},
     "output_type": "display_data"
    }
   ],
   "source": [
    "#DEPLOY TO SHINY SERVER\n",
    "dir <- getwd() #This gets the current Working Directory\n",
    "course <- \"sp23Capstone_01_Team05\" #This is to specify the course path for the shiny server\n",
    "folder <- \"R_shiny_app\" #This specifies the folder name to copy\n",
    "\n",
    "system(sprintf(\"/dsa/scripts/shiny_deploy %s %s %s\", course, dir,folder), \n",
    "       intern = TRUE,\n",
    "       ignore.stdout = FALSE, \n",
    "       ignore.stderr = FALSE,\n",
    "       wait = TRUE, \n",
    "       input = NULL)"
   ]
  },
  {
   "cell_type": "markdown",
   "metadata": {},
   "source": [
    "### Click the link below to see the final results\n",
    "\n",
    "https://rshiny.dsa.missouri.edu/students/txdy8/sp23Capstone_01_Team05/R_shiny_app/"
   ]
  }
 ],
 "metadata": {
  "kernelspec": {
   "display_name": "R",
   "language": "R",
   "name": "ir"
  },
  "language_info": {
   "codemirror_mode": "r",
   "file_extension": ".r",
   "mimetype": "text/x-r-source",
   "name": "R",
   "pygments_lexer": "r",
   "version": "3.5.1"
  }
 },
 "nbformat": 4,
 "nbformat_minor": 2
}
