{
 "cells": [
  {
   "cell_type": "code",
   "execution_count": 57,
   "metadata": {},
   "outputs": [],
   "source": [
    "import pandas as pd\n",
    "import numpy as np\n",
    "import matplotlib.pyplot as plt\n",
    "import pylab as pl\n",
    "from sklearn.metrics import r2_score"
   ]
  },
  {
   "cell_type": "code",
   "execution_count": 58,
   "metadata": {},
   "outputs": [
    {
     "name": "stdout",
     "output_type": "stream",
     "text": [
      "(248, 13)\n"
     ]
    },
    {
     "data": {
      "text/html": [
       "<div>\n",
       "<style scoped>\n",
       "    .dataframe tbody tr th:only-of-type {\n",
       "        vertical-align: middle;\n",
       "    }\n",
       "\n",
       "    .dataframe tbody tr th {\n",
       "        vertical-align: top;\n",
       "    }\n",
       "\n",
       "    .dataframe thead th {\n",
       "        text-align: right;\n",
       "    }\n",
       "</style>\n",
       "<table border=\"1\" class=\"dataframe\">\n",
       "  <thead>\n",
       "    <tr style=\"text-align: right;\">\n",
       "      <th></th>\n",
       "      <th>Accuracy</th>\n",
       "      <th>Away_Team</th>\n",
       "      <th>F1_Score</th>\n",
       "      <th>Home_Team</th>\n",
       "      <th>Home_Team_Lost_Spread</th>\n",
       "      <th>Model_Probability</th>\n",
       "      <th>Precision</th>\n",
       "      <th>Prediction_Class</th>\n",
       "      <th>Recall</th>\n",
       "      <th>Season</th>\n",
       "      <th>Var_Smoothing</th>\n",
       "      <th>Week</th>\n",
       "      <th>k_best</th>\n",
       "      <th>game_key</th>\n",
       "    </tr>\n",
       "  </thead>\n",
       "  <tbody>\n",
       "    <tr>\n",
       "      <th>0</th>\n",
       "      <td>0.69</td>\n",
       "      <td>Los Angeles Rams</td>\n",
       "      <td>0.65</td>\n",
       "      <td>Arizona Cardinals</td>\n",
       "      <td>1</td>\n",
       "      <td>0.006652</td>\n",
       "      <td>0.80</td>\n",
       "      <td>0</td>\n",
       "      <td>0.73</td>\n",
       "      <td>2022</td>\n",
       "      <td>0.00268</td>\n",
       "      <td>3</td>\n",
       "      <td>12.0</td>\n",
       "      <td>Los Angeles Rams-Arizona Cardinals-3</td>\n",
       "    </tr>\n",
       "    <tr>\n",
       "      <th>1</th>\n",
       "      <td>0.69</td>\n",
       "      <td>Las Vegas Raiders</td>\n",
       "      <td>0.65</td>\n",
       "      <td>Tennessee Titans</td>\n",
       "      <td>0</td>\n",
       "      <td>0.133914</td>\n",
       "      <td>0.80</td>\n",
       "      <td>0</td>\n",
       "      <td>0.73</td>\n",
       "      <td>2022</td>\n",
       "      <td>0.00268</td>\n",
       "      <td>3</td>\n",
       "      <td>12.0</td>\n",
       "      <td>Las Vegas Raiders-Tennessee Titans-3</td>\n",
       "    </tr>\n",
       "    <tr>\n",
       "      <th>2</th>\n",
       "      <td>0.44</td>\n",
       "      <td>Kansas City Chiefs</td>\n",
       "      <td>0.44</td>\n",
       "      <td>Houston Texans</td>\n",
       "      <td>0</td>\n",
       "      <td>0.146141</td>\n",
       "      <td>0.43</td>\n",
       "      <td>0</td>\n",
       "      <td>0.38</td>\n",
       "      <td>2022</td>\n",
       "      <td>0.00625</td>\n",
       "      <td>15</td>\n",
       "      <td>12.0</td>\n",
       "      <td>Kansas City Chiefs-Houston Texans-15</td>\n",
       "    </tr>\n",
       "    <tr>\n",
       "      <th>3</th>\n",
       "      <td>0.60</td>\n",
       "      <td>Kansas City Chiefs</td>\n",
       "      <td>0.60</td>\n",
       "      <td>Cincinnati Bengals</td>\n",
       "      <td>0</td>\n",
       "      <td>0.159115</td>\n",
       "      <td>0.57</td>\n",
       "      <td>0</td>\n",
       "      <td>0.57</td>\n",
       "      <td>2022</td>\n",
       "      <td>0.00954</td>\n",
       "      <td>13</td>\n",
       "      <td>12.0</td>\n",
       "      <td>Kansas City Chiefs-Cincinnati Bengals-13</td>\n",
       "    </tr>\n",
       "    <tr>\n",
       "      <th>4</th>\n",
       "      <td>0.69</td>\n",
       "      <td>Buffalo Bills</td>\n",
       "      <td>0.65</td>\n",
       "      <td>Miami Dolphins</td>\n",
       "      <td>0</td>\n",
       "      <td>0.195168</td>\n",
       "      <td>0.80</td>\n",
       "      <td>0</td>\n",
       "      <td>0.73</td>\n",
       "      <td>2022</td>\n",
       "      <td>0.00268</td>\n",
       "      <td>3</td>\n",
       "      <td>12.0</td>\n",
       "      <td>Buffalo Bills-Miami Dolphins-3</td>\n",
       "    </tr>\n",
       "  </tbody>\n",
       "</table>\n",
       "</div>"
      ],
      "text/plain": [
       "   Accuracy           Away_Team  F1_Score           Home_Team  \\\n",
       "0      0.69    Los Angeles Rams      0.65   Arizona Cardinals   \n",
       "1      0.69   Las Vegas Raiders      0.65    Tennessee Titans   \n",
       "2      0.44  Kansas City Chiefs      0.44      Houston Texans   \n",
       "3      0.60  Kansas City Chiefs      0.60  Cincinnati Bengals   \n",
       "4      0.69       Buffalo Bills      0.65      Miami Dolphins   \n",
       "\n",
       "   Home_Team_Lost_Spread  Model_Probability  Precision  Prediction_Class  \\\n",
       "0                      1           0.006652       0.80                 0   \n",
       "1                      0           0.133914       0.80                 0   \n",
       "2                      0           0.146141       0.43                 0   \n",
       "3                      0           0.159115       0.57                 0   \n",
       "4                      0           0.195168       0.80                 0   \n",
       "\n",
       "   Recall  Season  Var_Smoothing  Week  k_best  \\\n",
       "0    0.73    2022        0.00268     3    12.0   \n",
       "1    0.73    2022        0.00268     3    12.0   \n",
       "2    0.38    2022        0.00625    15    12.0   \n",
       "3    0.57    2022        0.00954    13    12.0   \n",
       "4    0.73    2022        0.00268     3    12.0   \n",
       "\n",
       "                                   game_key  \n",
       "0      Los Angeles Rams-Arizona Cardinals-3  \n",
       "1      Las Vegas Raiders-Tennessee Titans-3  \n",
       "2      Kansas City Chiefs-Houston Texans-15  \n",
       "3  Kansas City Chiefs-Cincinnati Bengals-13  \n",
       "4            Buffalo Bills-Miami Dolphins-3  "
      ]
     },
     "execution_count": 58,
     "metadata": {},
     "output_type": "execute_result"
    }
   ],
   "source": [
    "# Read in spread model results that had cross validation for hyperparameter smoothing\n",
    "df = pd.read_csv('/dsa/groups/capstonesp2023/online/Team05/model_results_probability_cross_val.csv')\n",
    "\n",
    "df.drop(columns='Unnamed: 0',inplace=True)\n",
    "print(df.shape)\n",
    "# making our own primary key for joining both spread and win/loss results. Each game is a unique event.\n",
    "df['game_key'] = df['Away_Team'] + \"-\" + df['Home_Team'] + \"-\" + df['Week'].astype(str)\n",
    "df.head()"
   ]
  },
  {
   "cell_type": "code",
   "execution_count": 59,
   "metadata": {},
   "outputs": [
    {
     "data": {
      "text/plain": [
       "(248, 14)"
      ]
     },
     "execution_count": 59,
     "metadata": {},
     "output_type": "execute_result"
    }
   ],
   "source": [
    "df.drop_duplicates(inplace=True)\n",
    "df.shape"
   ]
  },
  {
   "cell_type": "code",
   "execution_count": 60,
   "metadata": {},
   "outputs": [
    {
     "name": "stdout",
     "output_type": "stream",
     "text": [
      "(262, 11)\n"
     ]
    },
    {
     "data": {
      "text/html": [
       "<div>\n",
       "<style scoped>\n",
       "    .dataframe tbody tr th:only-of-type {\n",
       "        vertical-align: middle;\n",
       "    }\n",
       "\n",
       "    .dataframe tbody tr th {\n",
       "        vertical-align: top;\n",
       "    }\n",
       "\n",
       "    .dataframe thead th {\n",
       "        text-align: right;\n",
       "    }\n",
       "</style>\n",
       "<table border=\"1\" class=\"dataframe\">\n",
       "  <thead>\n",
       "    <tr style=\"text-align: right;\">\n",
       "      <th></th>\n",
       "      <th>team_name</th>\n",
       "      <th>opponent_name</th>\n",
       "      <th>gametime_year</th>\n",
       "      <th>gametime_week</th>\n",
       "      <th>win_or_loss</th>\n",
       "      <th>Prediction</th>\n",
       "      <th>home_line_open</th>\n",
       "      <th>spread_actual</th>\n",
       "      <th>model_accuracy</th>\n",
       "      <th>Predicted_Loss_Prob</th>\n",
       "      <th>Predicted_Win_Prob</th>\n",
       "      <th>game_key</th>\n",
       "    </tr>\n",
       "  </thead>\n",
       "  <tbody>\n",
       "    <tr>\n",
       "      <th>0</th>\n",
       "      <td>Cleveland Browns</td>\n",
       "      <td>Pittsburgh Steelers</td>\n",
       "      <td>2022</td>\n",
       "      <td>3</td>\n",
       "      <td>W</td>\n",
       "      <td>W</td>\n",
       "      <td>-3.0</td>\n",
       "      <td>-12</td>\n",
       "      <td>50.0</td>\n",
       "      <td>2.9</td>\n",
       "      <td>97.1</td>\n",
       "      <td>Pittsburgh Steelers-Cleveland Browns-3</td>\n",
       "    </tr>\n",
       "    <tr>\n",
       "      <th>1</th>\n",
       "      <td>Seattle Seahawks</td>\n",
       "      <td>Atlanta Falcons</td>\n",
       "      <td>2022</td>\n",
       "      <td>3</td>\n",
       "      <td>L</td>\n",
       "      <td>W</td>\n",
       "      <td>-3.0</td>\n",
       "      <td>4</td>\n",
       "      <td>50.0</td>\n",
       "      <td>3.9</td>\n",
       "      <td>96.1</td>\n",
       "      <td>Atlanta Falcons-Seattle Seahawks-3</td>\n",
       "    </tr>\n",
       "    <tr>\n",
       "      <th>2</th>\n",
       "      <td>New England Patriots</td>\n",
       "      <td>Baltimore Ravens</td>\n",
       "      <td>2022</td>\n",
       "      <td>3</td>\n",
       "      <td>L</td>\n",
       "      <td>W</td>\n",
       "      <td>3.0</td>\n",
       "      <td>11</td>\n",
       "      <td>50.0</td>\n",
       "      <td>10.2</td>\n",
       "      <td>89.8</td>\n",
       "      <td>Baltimore Ravens-New England Patriots-3</td>\n",
       "    </tr>\n",
       "    <tr>\n",
       "      <th>3</th>\n",
       "      <td>Miami Dolphins</td>\n",
       "      <td>Buffalo Bills</td>\n",
       "      <td>2022</td>\n",
       "      <td>3</td>\n",
       "      <td>W</td>\n",
       "      <td>W</td>\n",
       "      <td>4.5</td>\n",
       "      <td>-2</td>\n",
       "      <td>50.0</td>\n",
       "      <td>0.0</td>\n",
       "      <td>100.0</td>\n",
       "      <td>Buffalo Bills-Miami Dolphins-3</td>\n",
       "    </tr>\n",
       "    <tr>\n",
       "      <th>4</th>\n",
       "      <td>New York Jets</td>\n",
       "      <td>Cincinnati Bengals</td>\n",
       "      <td>2022</td>\n",
       "      <td>3</td>\n",
       "      <td>L</td>\n",
       "      <td>W</td>\n",
       "      <td>6.0</td>\n",
       "      <td>15</td>\n",
       "      <td>50.0</td>\n",
       "      <td>8.6</td>\n",
       "      <td>91.4</td>\n",
       "      <td>Cincinnati Bengals-New York Jets-3</td>\n",
       "    </tr>\n",
       "  </tbody>\n",
       "</table>\n",
       "</div>"
      ],
      "text/plain": [
       "              team_name        opponent_name  gametime_year  gametime_week  \\\n",
       "0      Cleveland Browns  Pittsburgh Steelers           2022              3   \n",
       "1      Seattle Seahawks      Atlanta Falcons           2022              3   \n",
       "2  New England Patriots     Baltimore Ravens           2022              3   \n",
       "3        Miami Dolphins        Buffalo Bills           2022              3   \n",
       "4         New York Jets   Cincinnati Bengals           2022              3   \n",
       "\n",
       "  win_or_loss Prediction  home_line_open  spread_actual  model_accuracy  \\\n",
       "0           W          W            -3.0            -12            50.0   \n",
       "1           L          W            -3.0              4            50.0   \n",
       "2           L          W             3.0             11            50.0   \n",
       "3           W          W             4.5             -2            50.0   \n",
       "4           L          W             6.0             15            50.0   \n",
       "\n",
       "   Predicted_Loss_Prob  Predicted_Win_Prob  \\\n",
       "0                  2.9                97.1   \n",
       "1                  3.9                96.1   \n",
       "2                 10.2                89.8   \n",
       "3                  0.0               100.0   \n",
       "4                  8.6                91.4   \n",
       "\n",
       "                                  game_key  \n",
       "0   Pittsburgh Steelers-Cleveland Browns-3  \n",
       "1       Atlanta Falcons-Seattle Seahawks-3  \n",
       "2  Baltimore Ravens-New England Patriots-3  \n",
       "3           Buffalo Bills-Miami Dolphins-3  \n",
       "4       Cincinnati Bengals-New York Jets-3  "
      ]
     },
     "execution_count": 60,
     "metadata": {},
     "output_type": "execute_result"
    }
   ],
   "source": [
    "# Read in Win/Loss results from that model training/testing\n",
    "cory_df = pd.read_csv('/dsa/groups/capstonesp2023/online/Team05/prediction_probabilities.csv')\n",
    "cory_df.drop(columns='Unnamed: 0',inplace=True)\n",
    "print(cory_df.shape)\n",
    "# making unique game key so we can join with spread model results\n",
    "cory_df['game_key'] = cory_df['opponent_name'] + \"-\" + cory_df['team_name'] + \"-\" + cory_df['gametime_week'].astype(str)\n",
    "cory_df.head()"
   ]
  },
  {
   "cell_type": "code",
   "execution_count": 61,
   "metadata": {},
   "outputs": [
    {
     "data": {
      "text/plain": [
       "260"
      ]
     },
     "execution_count": 61,
     "metadata": {},
     "output_type": "execute_result"
    }
   ],
   "source": [
    "cory_df.drop_duplicates(inplace=True)\n",
    "len(cory_df['game_key'])"
   ]
  },
  {
   "cell_type": "markdown",
   "metadata": {},
   "source": [
    "## making each game_key for spread and W/L into their own lists"
   ]
  },
  {
   "cell_type": "code",
   "execution_count": 62,
   "metadata": {},
   "outputs": [],
   "source": [
    "List2 = cory_df['game_key'].tolist()"
   ]
  },
  {
   "cell_type": "code",
   "execution_count": 63,
   "metadata": {},
   "outputs": [],
   "source": [
    "List1 = df['game_key'].tolist()"
   ]
  },
  {
   "cell_type": "markdown",
   "metadata": {},
   "source": [
    "## Join data together via Inner Join to minimize nulls"
   ]
  },
  {
   "cell_type": "code",
   "execution_count": 64,
   "metadata": {},
   "outputs": [
    {
     "name": "stdout",
     "output_type": "stream",
     "text": [
      "(260, 25)\n",
      "Index(['team_name', 'gametime_year', 'win_or_loss', 'Prediction',\n",
      "       'home_line_open', 'spread_actual', 'model_accuracy',\n",
      "       'Predicted_Loss_Prob', 'Predicted_Win_Prob', 'game_key', 'Accuracy',\n",
      "       'Away_Team', 'F1_Score', 'Home_Team', 'Home_Team_Lost_Spread',\n",
      "       'Model_Probability', 'Precision', 'Prediction_Class', 'Recall',\n",
      "       'Season', 'Var_Smoothing', 'Week', 'k_best',\n",
      "       'Home_Team_Lose_Spread_probability',\n",
      "       'Home_Team_Beat_Spread_probability'],\n",
      "      dtype='object')\n"
     ]
    },
    {
     "data": {
      "text/html": [
       "<div>\n",
       "<style scoped>\n",
       "    .dataframe tbody tr th:only-of-type {\n",
       "        vertical-align: middle;\n",
       "    }\n",
       "\n",
       "    .dataframe tbody tr th {\n",
       "        vertical-align: top;\n",
       "    }\n",
       "\n",
       "    .dataframe thead th {\n",
       "        text-align: right;\n",
       "    }\n",
       "</style>\n",
       "<table border=\"1\" class=\"dataframe\">\n",
       "  <thead>\n",
       "    <tr style=\"text-align: right;\">\n",
       "      <th></th>\n",
       "      <th>team_name</th>\n",
       "      <th>gametime_year</th>\n",
       "      <th>win_or_loss</th>\n",
       "      <th>Prediction</th>\n",
       "      <th>home_line_open</th>\n",
       "      <th>spread_actual</th>\n",
       "      <th>model_accuracy</th>\n",
       "      <th>Predicted_Loss_Prob</th>\n",
       "      <th>Predicted_Win_Prob</th>\n",
       "      <th>game_key</th>\n",
       "      <th>...</th>\n",
       "      <th>Model_Probability</th>\n",
       "      <th>Precision</th>\n",
       "      <th>Prediction_Class</th>\n",
       "      <th>Recall</th>\n",
       "      <th>Season</th>\n",
       "      <th>Var_Smoothing</th>\n",
       "      <th>Week</th>\n",
       "      <th>k_best</th>\n",
       "      <th>Home_Team_Lose_Spread_probability</th>\n",
       "      <th>Home_Team_Beat_Spread_probability</th>\n",
       "    </tr>\n",
       "  </thead>\n",
       "  <tbody>\n",
       "    <tr>\n",
       "      <th>0</th>\n",
       "      <td>Cleveland Browns</td>\n",
       "      <td>2022</td>\n",
       "      <td>W</td>\n",
       "      <td>W</td>\n",
       "      <td>-3.0</td>\n",
       "      <td>-12</td>\n",
       "      <td>50.0</td>\n",
       "      <td>2.9</td>\n",
       "      <td>97.1</td>\n",
       "      <td>Pittsburgh Steelers-Cleveland Browns-3</td>\n",
       "      <td>...</td>\n",
       "      <td>0.785633</td>\n",
       "      <td>0.8</td>\n",
       "      <td>1</td>\n",
       "      <td>0.73</td>\n",
       "      <td>2022</td>\n",
       "      <td>0.00268</td>\n",
       "      <td>3</td>\n",
       "      <td>12.0</td>\n",
       "      <td>78.6</td>\n",
       "      <td>21.4</td>\n",
       "    </tr>\n",
       "    <tr>\n",
       "      <th>1</th>\n",
       "      <td>Seattle Seahawks</td>\n",
       "      <td>2022</td>\n",
       "      <td>L</td>\n",
       "      <td>W</td>\n",
       "      <td>-3.0</td>\n",
       "      <td>4</td>\n",
       "      <td>50.0</td>\n",
       "      <td>3.9</td>\n",
       "      <td>96.1</td>\n",
       "      <td>Atlanta Falcons-Seattle Seahawks-3</td>\n",
       "      <td>...</td>\n",
       "      <td>0.806130</td>\n",
       "      <td>0.8</td>\n",
       "      <td>1</td>\n",
       "      <td>0.73</td>\n",
       "      <td>2022</td>\n",
       "      <td>0.00268</td>\n",
       "      <td>3</td>\n",
       "      <td>12.0</td>\n",
       "      <td>80.6</td>\n",
       "      <td>19.4</td>\n",
       "    </tr>\n",
       "    <tr>\n",
       "      <th>2</th>\n",
       "      <td>New England Patriots</td>\n",
       "      <td>2022</td>\n",
       "      <td>L</td>\n",
       "      <td>W</td>\n",
       "      <td>3.0</td>\n",
       "      <td>11</td>\n",
       "      <td>50.0</td>\n",
       "      <td>10.2</td>\n",
       "      <td>89.8</td>\n",
       "      <td>Baltimore Ravens-New England Patriots-3</td>\n",
       "      <td>...</td>\n",
       "      <td>0.812936</td>\n",
       "      <td>0.8</td>\n",
       "      <td>1</td>\n",
       "      <td>0.73</td>\n",
       "      <td>2022</td>\n",
       "      <td>0.00268</td>\n",
       "      <td>3</td>\n",
       "      <td>12.0</td>\n",
       "      <td>81.3</td>\n",
       "      <td>18.7</td>\n",
       "    </tr>\n",
       "    <tr>\n",
       "      <th>3</th>\n",
       "      <td>Miami Dolphins</td>\n",
       "      <td>2022</td>\n",
       "      <td>W</td>\n",
       "      <td>W</td>\n",
       "      <td>4.5</td>\n",
       "      <td>-2</td>\n",
       "      <td>50.0</td>\n",
       "      <td>0.0</td>\n",
       "      <td>100.0</td>\n",
       "      <td>Buffalo Bills-Miami Dolphins-3</td>\n",
       "      <td>...</td>\n",
       "      <td>0.195168</td>\n",
       "      <td>0.8</td>\n",
       "      <td>0</td>\n",
       "      <td>0.73</td>\n",
       "      <td>2022</td>\n",
       "      <td>0.00268</td>\n",
       "      <td>3</td>\n",
       "      <td>12.0</td>\n",
       "      <td>19.5</td>\n",
       "      <td>80.5</td>\n",
       "    </tr>\n",
       "    <tr>\n",
       "      <th>4</th>\n",
       "      <td>New York Jets</td>\n",
       "      <td>2022</td>\n",
       "      <td>L</td>\n",
       "      <td>W</td>\n",
       "      <td>6.0</td>\n",
       "      <td>15</td>\n",
       "      <td>50.0</td>\n",
       "      <td>8.6</td>\n",
       "      <td>91.4</td>\n",
       "      <td>Cincinnati Bengals-New York Jets-3</td>\n",
       "      <td>...</td>\n",
       "      <td>0.373753</td>\n",
       "      <td>0.8</td>\n",
       "      <td>0</td>\n",
       "      <td>0.73</td>\n",
       "      <td>2022</td>\n",
       "      <td>0.00268</td>\n",
       "      <td>3</td>\n",
       "      <td>12.0</td>\n",
       "      <td>37.4</td>\n",
       "      <td>62.6</td>\n",
       "    </tr>\n",
       "  </tbody>\n",
       "</table>\n",
       "<p>5 rows × 25 columns</p>\n",
       "</div>"
      ],
      "text/plain": [
       "              team_name  gametime_year win_or_loss Prediction  home_line_open  \\\n",
       "0      Cleveland Browns           2022           W          W            -3.0   \n",
       "1      Seattle Seahawks           2022           L          W            -3.0   \n",
       "2  New England Patriots           2022           L          W             3.0   \n",
       "3        Miami Dolphins           2022           W          W             4.5   \n",
       "4         New York Jets           2022           L          W             6.0   \n",
       "\n",
       "   spread_actual  model_accuracy  Predicted_Loss_Prob  Predicted_Win_Prob  \\\n",
       "0            -12            50.0                  2.9                97.1   \n",
       "1              4            50.0                  3.9                96.1   \n",
       "2             11            50.0                 10.2                89.8   \n",
       "3             -2            50.0                  0.0               100.0   \n",
       "4             15            50.0                  8.6                91.4   \n",
       "\n",
       "                                  game_key  ...  Model_Probability Precision  \\\n",
       "0   Pittsburgh Steelers-Cleveland Browns-3  ...           0.785633       0.8   \n",
       "1       Atlanta Falcons-Seattle Seahawks-3  ...           0.806130       0.8   \n",
       "2  Baltimore Ravens-New England Patriots-3  ...           0.812936       0.8   \n",
       "3           Buffalo Bills-Miami Dolphins-3  ...           0.195168       0.8   \n",
       "4       Cincinnati Bengals-New York Jets-3  ...           0.373753       0.8   \n",
       "\n",
       "   Prediction_Class Recall  Season  Var_Smoothing  Week  k_best  \\\n",
       "0                 1   0.73    2022        0.00268     3    12.0   \n",
       "1                 1   0.73    2022        0.00268     3    12.0   \n",
       "2                 1   0.73    2022        0.00268     3    12.0   \n",
       "3                 0   0.73    2022        0.00268     3    12.0   \n",
       "4                 0   0.73    2022        0.00268     3    12.0   \n",
       "\n",
       "   Home_Team_Lose_Spread_probability  Home_Team_Beat_Spread_probability  \n",
       "0                               78.6                               21.4  \n",
       "1                               80.6                               19.4  \n",
       "2                               81.3                               18.7  \n",
       "3                               19.5                               80.5  \n",
       "4                               37.4                               62.6  \n",
       "\n",
       "[5 rows x 25 columns]"
      ]
     },
     "execution_count": 64,
     "metadata": {},
     "output_type": "execute_result"
    }
   ],
   "source": [
    "joined_df = cory_df.merge(df,on='game_key',how='inner')\n",
    "joined_df.drop_duplicates(inplace=True)\n",
    "joined_df.dropna(inplace=True)\n",
    "joined_df['Home_Team_Lose_Spread_probability']=round(joined_df['Model_Probability']*100,1)\n",
    "joined_df['Home_Team_Beat_Spread_probability']=round((1-joined_df['Model_Probability'])*100,1)\n",
    "joined_df.drop(columns=['opponent_name','gametime_week'],inplace=True)\n",
    "print(joined_df.shape)\n",
    "print(joined_df.columns)\n",
    "joined_df.head()"
   ]
  },
  {
   "cell_type": "markdown",
   "metadata": {},
   "source": [
    "## Classifying spread model success, W/L model success, and when both have success"
   ]
  },
  {
   "cell_type": "code",
   "execution_count": 65,
   "metadata": {},
   "outputs": [],
   "source": [
    "joined_df['win_pred_success']=0\n",
    "joined_df.loc[joined_df['win_or_loss']==joined_df['Prediction'],'win_pred_success']=1\n",
    "\n",
    "joined_df['spread_pred_success']=0\n",
    "joined_df.loc[joined_df['Home_Team_Lost_Spread']==joined_df['Prediction_Class'],'spread_pred_success']=1\n",
    "\n",
    "joined_df['both_success']=joined_df['spread_pred_success'] + joined_df['win_pred_success']"
   ]
  },
  {
   "cell_type": "markdown",
   "metadata": {},
   "source": [
    "## Output data for R shiny App"
   ]
  },
  {
   "cell_type": "code",
   "execution_count": 66,
   "metadata": {},
   "outputs": [],
   "source": [
    "joined_df.to_csv('/dsa/groups/capstonesp2023/online/Team05/WL_Spread_Combined.csv',index=False)"
   ]
  },
  {
   "cell_type": "markdown",
   "metadata": {},
   "source": [
    "## Ran through several prediction scenarios with combinations of both models (Spread and W/L)"
   ]
  },
  {
   "cell_type": "markdown",
   "metadata": {},
   "source": [
    "## Both Models Have Success"
   ]
  },
  {
   "cell_type": "code",
   "execution_count": 67,
   "metadata": {},
   "outputs": [
    {
     "name": "stdout",
     "output_type": "stream",
     "text": [
      "103\n",
      "260\n",
      "0.4\n"
     ]
    }
   ],
   "source": [
    "pp = 0.5\n",
    "\n",
    "#GTET_50_pct_prob = joined.loc[(pred_vs_actual['Model_Probability'] >= pp) \n",
    "                                 #& (pred_vs_actual['Week']>week_start)  ].sort_values(by=['Model_Probability'],ascending=False).drop_duplicates()\n",
    "#GT_70_pct_prob.reset_index(inplace=True,drop=True)\n",
    "\n",
    "\n",
    "print(joined_df[(joined_df['spread_pred_success']==1) & (joined_df['win_pred_success']==1) \n",
    "                & (joined_df['both_success']==2)]['spread_pred_success'].sum())\n",
    "print(joined_df.shape[0])\n",
    "print(round(((joined_df[(joined_df['spread_pred_success']==1) & (joined_df['win_pred_success']==1)\n",
    "                       & (joined_df['both_success']==2)]['spread_pred_success'].sum())/(joined_df.shape[0])),2))"
   ]
  },
  {
   "cell_type": "markdown",
   "metadata": {},
   "source": [
    "## Only Win-Loss Model Has Success"
   ]
  },
  {
   "cell_type": "code",
   "execution_count": 68,
   "metadata": {},
   "outputs": [
    {
     "name": "stdout",
     "output_type": "stream",
     "text": [
      "56\n",
      "260\n",
      "0.22\n"
     ]
    }
   ],
   "source": [
    "print(joined_df[(joined_df['spread_pred_success']==0) & (joined_df['win_pred_success']==1) \n",
    "                & (joined_df['both_success']==1)]['win_pred_success'].sum())\n",
    "print(joined_df.shape[0])\n",
    "print(round(((joined_df[(joined_df['spread_pred_success']==0) & (joined_df['win_pred_success']==1)\n",
    "                       & (joined_df['both_success']==1)]['win_pred_success'].sum())/(joined_df.shape[0])),2))"
   ]
  },
  {
   "cell_type": "markdown",
   "metadata": {},
   "source": [
    "## Only Spread Model Has Success"
   ]
  },
  {
   "cell_type": "code",
   "execution_count": 69,
   "metadata": {},
   "outputs": [
    {
     "name": "stdout",
     "output_type": "stream",
     "text": [
      "39\n",
      "260\n",
      "0.15\n"
     ]
    }
   ],
   "source": [
    "print(joined_df[(joined_df['spread_pred_success']==1) & (joined_df['win_pred_success']==0) \n",
    "                & (joined_df['both_success']==1)]['spread_pred_success'].sum())\n",
    "print(joined_df.shape[0])\n",
    "print(round(((joined_df[(joined_df['spread_pred_success']==1) & (joined_df['win_pred_success']==0)\n",
    "                       & (joined_df['both_success']==1)]['spread_pred_success'].sum())/(joined_df.shape[0])),2))"
   ]
  },
  {
   "cell_type": "markdown",
   "metadata": {},
   "source": [
    "## Both Models Don't Have Success"
   ]
  },
  {
   "cell_type": "code",
   "execution_count": 70,
   "metadata": {},
   "outputs": [
    {
     "name": "stdout",
     "output_type": "stream",
     "text": [
      "62\n",
      "260\n",
      "0.24\n"
     ]
    }
   ],
   "source": [
    "print(joined_df[(joined_df['spread_pred_success']==0) & (joined_df['win_pred_success']==0) \n",
    "                & (joined_df['both_success']==0)]['spread_pred_success'].count())\n",
    "print(joined_df.shape[0])\n",
    "print(round(((joined_df[(joined_df['spread_pred_success']==0) & (joined_df['win_pred_success']==0)\n",
    "                       & (joined_df['both_success']==0)]['spread_pred_success'].count())/(joined_df.shape[0])),2))"
   ]
  },
  {
   "cell_type": "markdown",
   "metadata": {},
   "source": [
    "## WL Model predicted Win while Home Team Favored and Predicted to Cover Spread"
   ]
  },
  {
   "cell_type": "code",
   "execution_count": 71,
   "metadata": {},
   "outputs": [],
   "source": [
    "joined_df['W_while_favored_and_predict_beat_spread']=0\n",
    "joined_df.loc[(joined_df['win_or_loss']==joined_df['Prediction'])\n",
    "              & (joined_df['Prediction'] == 'W') & (joined_df['home_line_open']<0 ) \n",
    "              & (joined_df['Prediction_Class']==0) & (joined_df['Home_Team_Lost_Spread']==0)\n",
    "              ,'W_while_favored_and_predict_beat_spread']=1"
   ]
  },
  {
   "cell_type": "code",
   "execution_count": 72,
   "metadata": {},
   "outputs": [],
   "source": [
    "joined_df['predicted_W_and_predict_beat_spread_when_favored']=0\n",
    "joined_df.loc[ (joined_df['Prediction'] == 'W') & (joined_df['home_line_open']<0 ) \n",
    "              & (joined_df['Prediction_Class']==0) \n",
    "              ,'predicted_W_and_predict_beat_spread_when_favored']=1"
   ]
  },
  {
   "cell_type": "code",
   "execution_count": 73,
   "metadata": {},
   "outputs": [
    {
     "name": "stdout",
     "output_type": "stream",
     "text": [
      "25\n",
      "41\n",
      "0.61\n"
     ]
    }
   ],
   "source": [
    "both_success = joined_df.loc[(joined_df['predicted_W_and_predict_beat_spread_when_favored']==1)]\n",
    "print(both_success['W_while_favored_and_predict_beat_spread'].sum())\n",
    "print(both_success['predicted_W_and_predict_beat_spread_when_favored'].sum())\n",
    "print(round(((both_success['W_while_favored_and_predict_beat_spread'].sum())/(both_success['predicted_W_and_predict_beat_spread_when_favored'].sum())),2))"
   ]
  },
  {
   "cell_type": "code",
   "execution_count": 74,
   "metadata": {},
   "outputs": [
    {
     "data": {
      "text/plain": [
       "array([[<matplotlib.axes._subplots.AxesSubplot object at 0x7f909de0e0b8>]],\n",
       "      dtype=object)"
      ]
     },
     "execution_count": 74,
     "metadata": {},
     "output_type": "execute_result"
    },
    {
     "data": {
      "image/png": "[encoded data removed]",
      "text/plain": [
       "<Figure size 1008x720 with 1 Axes>"
      ]
     },
     "metadata": {
      "needs_background": "light"
     },
     "output_type": "display_data"
    }
   ],
   "source": [
    "# within this subset of scenarios, where do the probabilities end up?\n",
    "both_success.hist(column='Home_Team_Beat_Spread_probability',bins=10,figsize=(14,10))"
   ]
  },
  {
   "cell_type": "markdown",
   "metadata": {},
   "source": [
    "## WL Model predicted Loss while Home Team Underdog and Predicted to Lose Spread"
   ]
  },
  {
   "cell_type": "code",
   "execution_count": 75,
   "metadata": {},
   "outputs": [],
   "source": [
    "joined_df['L_while_dog_and_predict_lose_spread']=0\n",
    "joined_df.loc[(joined_df['win_or_loss']==joined_df['Prediction'])\n",
    "              & (joined_df['Prediction'] == 'L') & (joined_df['home_line_open']>0 ) \n",
    "              & (joined_df['Prediction_Class']==1) & (joined_df['Home_Team_Lost_Spread']==1)\n",
    "              ,'L_while_dog_and_predict_lose_spread']=1"
   ]
  },
  {
   "cell_type": "code",
   "execution_count": 76,
   "metadata": {},
   "outputs": [],
   "source": [
    "joined_df['predicted_L_and_predict_lose_spread_when_underdog']=0\n",
    "joined_df.loc[ (joined_df['Prediction'] == 'L') & (joined_df['home_line_open']>0 ) \n",
    "              & (joined_df['Prediction_Class']==1) \n",
    "              ,'predicted_L_and_predict_lose_spread_when_underdog']=1"
   ]
  },
  {
   "cell_type": "code",
   "execution_count": 77,
   "metadata": {},
   "outputs": [
    {
     "name": "stdout",
     "output_type": "stream",
     "text": [
      "20\n",
      "41\n",
      "0.49\n"
     ]
    }
   ],
   "source": [
    "both_success_L = joined_df.loc[(joined_df['predicted_L_and_predict_lose_spread_when_underdog']==1)]\n",
    "print(both_success_L['L_while_dog_and_predict_lose_spread'].sum())\n",
    "print(both_success_L['predicted_L_and_predict_lose_spread_when_underdog'].sum())\n",
    "print(round(((both_success_L['L_while_dog_and_predict_lose_spread'].sum())/(both_success_L['predicted_L_and_predict_lose_spread_when_underdog'].sum())),2))"
   ]
  },
  {
   "cell_type": "code",
   "execution_count": 78,
   "metadata": {},
   "outputs": [
    {
     "data": {
      "text/plain": [
       "array([[<matplotlib.axes._subplots.AxesSubplot object at 0x7f909dd1bcf8>]],\n",
       "      dtype=object)"
      ]
     },
     "execution_count": 78,
     "metadata": {},
     "output_type": "execute_result"
    },
    {
     "data": {
      "image/png": "[encoded data removed]",
      "text/plain": [
       "<Figure size 1008x720 with 1 Axes>"
      ]
     },
     "metadata": {
      "needs_background": "light"
     },
     "output_type": "display_data"
    }
   ],
   "source": [
    "# within this subset of scenarios, where do the probabilities end up?\n",
    "both_success_L.hist(column='Home_Team_Lose_Spread_probability',bins=10,figsize=(14,10))"
   ]
  },
  {
   "cell_type": "markdown",
   "metadata": {},
   "source": [
    "## WL Model predicted Win while Home Team Underdog and Predicted to Lose Spread"
   ]
  },
  {
   "cell_type": "code",
   "execution_count": 79,
   "metadata": {},
   "outputs": [],
   "source": [
    "joined_df['W_while_dog_and_predict_lose_spread']=0\n",
    "joined_df.loc[(joined_df['win_or_loss']==joined_df['Prediction'])\n",
    "              & (joined_df['Prediction'] == 'W') & (joined_df['home_line_open']>0 ) \n",
    "              & (joined_df['Prediction_Class']==1) & (joined_df['Home_Team_Lost_Spread']==1)\n",
    "              ,'W_while_dog_and_predict_lose_spread']=1"
   ]
  },
  {
   "cell_type": "code",
   "execution_count": 80,
   "metadata": {},
   "outputs": [],
   "source": [
    "joined_df['predicted_W_and_predict_lose_spread_when_underdog']=0\n",
    "joined_df.loc[ (joined_df['Prediction'] == 'W') & (joined_df['home_line_open']>0 ) \n",
    "              & (joined_df['Prediction_Class']==1) \n",
    "              ,'predicted_W_and_predict_lose_spread_when_underdog']=1"
   ]
  },
  {
   "cell_type": "code",
   "execution_count": 81,
   "metadata": {},
   "outputs": [
    {
     "name": "stdout",
     "output_type": "stream",
     "text": [
      "0\n",
      "11\n",
      "0.0\n"
     ]
    }
   ],
   "source": [
    "WL_W_spreadL_dog = joined_df.loc[(joined_df['predicted_W_and_predict_lose_spread_when_underdog']==1)]\n",
    "print(WL_W_spreadL_dog['W_while_dog_and_predict_lose_spread'].sum())\n",
    "print(WL_W_spreadL_dog['predicted_W_and_predict_lose_spread_when_underdog'].sum())\n",
    "print(round(((WL_W_spreadL_dog['W_while_dog_and_predict_lose_spread'].sum())/(WL_W_spreadL_dog['predicted_W_and_predict_lose_spread_when_underdog'].sum())),2))"
   ]
  },
  {
   "cell_type": "markdown",
   "metadata": {},
   "source": [
    "## WL Model predicted L while Home Team Favored and Predicted to Beat Spread"
   ]
  },
  {
   "cell_type": "code",
   "execution_count": 82,
   "metadata": {},
   "outputs": [],
   "source": [
    "joined_df['L_while_fav_and_predict_beat_spread']=0\n",
    "joined_df.loc[(joined_df['win_or_loss']==joined_df['Prediction'])\n",
    "              & (joined_df['Prediction'] == 'L') & (joined_df['home_line_open']<0 ) \n",
    "              & (joined_df['Prediction_Class']==0) & (joined_df['Home_Team_Lost_Spread']==0)\n",
    "              ,'L_while_fav_and_predict_beat_spread']=1"
   ]
  },
  {
   "cell_type": "code",
   "execution_count": 83,
   "metadata": {},
   "outputs": [],
   "source": [
    "joined_df['predicted_L_and_predict_beat_spread_when_favored']=0\n",
    "joined_df.loc[ (joined_df['Prediction'] == 'L') & (joined_df['home_line_open']<0 ) \n",
    "              & (joined_df['Prediction_Class']==0) \n",
    "              ,'predicted_L_and_predict_beat_spread_when_favored']=1"
   ]
  },
  {
   "cell_type": "code",
   "execution_count": 84,
   "metadata": {},
   "outputs": [
    {
     "name": "stdout",
     "output_type": "stream",
     "text": [
      "0\n",
      "14\n",
      "0.0\n"
     ]
    }
   ],
   "source": [
    "WL_L_spreadW_fav = joined_df.loc[(joined_df['predicted_L_and_predict_beat_spread_when_favored']==1)]\n",
    "print(WL_L_spreadW_fav['L_while_fav_and_predict_beat_spread'].sum())\n",
    "print(WL_L_spreadW_fav['predicted_L_and_predict_beat_spread_when_favored'].sum())\n",
    "print(round(((WL_L_spreadW_fav['L_while_fav_and_predict_beat_spread'].sum())/(WL_L_spreadW_fav['predicted_L_and_predict_beat_spread_when_favored'].sum())),2))"
   ]
  },
  {
   "cell_type": "markdown",
   "metadata": {},
   "source": [
    "## WL Model predicted Win while Home Team Underdog and Predicted to Beat Spread"
   ]
  },
  {
   "cell_type": "code",
   "execution_count": 85,
   "metadata": {},
   "outputs": [],
   "source": [
    "joined_df['W_while_dog_and_predict_beat_spread']=0\n",
    "joined_df.loc[(joined_df['win_or_loss']==joined_df['Prediction'])\n",
    "              & (joined_df['Prediction'] == 'W') & (joined_df['home_line_open']>0 ) \n",
    "              & (joined_df['Prediction_Class']==0) & (joined_df['Home_Team_Lost_Spread']==0)\n",
    "              ,'W_while_dog_and_predict_beat_spread']=1"
   ]
  },
  {
   "cell_type": "code",
   "execution_count": 86,
   "metadata": {},
   "outputs": [],
   "source": [
    "joined_df['predicted_W_and_predict_beat_spread_when_underdog']=0\n",
    "joined_df.loc[ (joined_df['Prediction'] == 'W') & (joined_df['home_line_open']>0 ) \n",
    "              & (joined_df['Prediction_Class']==0) \n",
    "              ,'predicted_W_and_predict_beat_spread_when_underdog']=1"
   ]
  },
  {
   "cell_type": "code",
   "execution_count": 87,
   "metadata": {},
   "outputs": [
    {
     "name": "stdout",
     "output_type": "stream",
     "text": [
      "9\n",
      "17\n",
      "0.53\n"
     ]
    }
   ],
   "source": [
    "WL_W_spreadW_dog = joined_df.loc[(joined_df['predicted_W_and_predict_beat_spread_when_underdog']==1)]\n",
    "print(WL_W_spreadW_dog['W_while_dog_and_predict_beat_spread'].sum())\n",
    "print(WL_W_spreadW_dog['predicted_W_and_predict_beat_spread_when_underdog'].sum())\n",
    "print(round(((WL_W_spreadW_dog['W_while_dog_and_predict_beat_spread'].sum())/(WL_W_spreadW_dog['predicted_W_and_predict_beat_spread_when_underdog'].sum())),2))"
   ]
  },
  {
   "cell_type": "markdown",
   "metadata": {},
   "source": [
    "## WL Model predicted Win while Home Team Favored and Predicted to Lose to Spread"
   ]
  },
  {
   "cell_type": "code",
   "execution_count": 88,
   "metadata": {},
   "outputs": [],
   "source": [
    "joined_df['W_while_fav_and_predict_lose_spread']=0\n",
    "joined_df.loc[(joined_df['win_or_loss']==joined_df['Prediction'])\n",
    "              & (joined_df['Prediction'] == 'W') & (joined_df['home_line_open']<0 ) \n",
    "              & (joined_df['Prediction_Class']==1) & (joined_df['Home_Team_Lost_Spread']==1)\n",
    "              ,'W_while_fav_and_predict_lose_spread']=1"
   ]
  },
  {
   "cell_type": "code",
   "execution_count": 89,
   "metadata": {},
   "outputs": [],
   "source": [
    "joined_df['predicted_W_and_predict_lose_spread_when_fav']=0\n",
    "joined_df.loc[ (joined_df['Prediction'] == 'W') & (joined_df['home_line_open']<0 ) \n",
    "              & (joined_df['Prediction_Class']==1) \n",
    "              ,'predicted_W_and_predict_lose_spread_when_fav']=1"
   ]
  },
  {
   "cell_type": "code",
   "execution_count": 90,
   "metadata": {},
   "outputs": [
    {
     "name": "stdout",
     "output_type": "stream",
     "text": [
      "15\n",
      "48\n",
      "0.31\n"
     ]
    }
   ],
   "source": [
    "WL_W_spreadL_fav = joined_df.loc[(joined_df['predicted_W_and_predict_lose_spread_when_fav']==1)]\n",
    "print(WL_W_spreadL_fav['W_while_fav_and_predict_lose_spread'].sum())\n",
    "print(WL_W_spreadL_fav['predicted_W_and_predict_lose_spread_when_fav'].sum())\n",
    "print(round(((WL_W_spreadL_fav['W_while_fav_and_predict_lose_spread'].sum())/(WL_W_spreadL_fav['predicted_W_and_predict_lose_spread_when_fav'].sum())),2))"
   ]
  },
  {
   "cell_type": "markdown",
   "metadata": {},
   "source": [
    "## WL Model predicted L while Home Team Favored and Predicted to Lose to Spread"
   ]
  },
  {
   "cell_type": "code",
   "execution_count": 91,
   "metadata": {},
   "outputs": [],
   "source": [
    "joined_df['L_while_fav_and_predict_lose_spread']=0\n",
    "joined_df.loc[(joined_df['win_or_loss']==joined_df['Prediction'])\n",
    "              & (joined_df['Prediction'] == 'L') & (joined_df['home_line_open']<0 ) \n",
    "              & (joined_df['Prediction_Class']==1) & (joined_df['Home_Team_Lost_Spread']==1)\n",
    "              ,'L_while_fav_and_predict_lose_spread']=1"
   ]
  },
  {
   "cell_type": "code",
   "execution_count": 92,
   "metadata": {},
   "outputs": [],
   "source": [
    "joined_df['predicted_L_and_predict_lose_spread_when_fav']=0\n",
    "joined_df.loc[ (joined_df['Prediction'] == 'L') & (joined_df['home_line_open']<0 ) \n",
    "              & (joined_df['Prediction_Class']==1) \n",
    "              ,'predicted_L_and_predict_lose_spread_when_fav']=1"
   ]
  },
  {
   "cell_type": "code",
   "execution_count": 93,
   "metadata": {},
   "outputs": [
    {
     "name": "stdout",
     "output_type": "stream",
     "text": [
      "30\n",
      "65\n",
      "0.46\n"
     ]
    }
   ],
   "source": [
    "WL_L_spreadL_fav = joined_df.loc[(joined_df['predicted_L_and_predict_lose_spread_when_fav']==1)]\n",
    "print(WL_L_spreadL_fav['L_while_fav_and_predict_lose_spread'].sum())\n",
    "print(WL_L_spreadL_fav['predicted_L_and_predict_lose_spread_when_fav'].sum())\n",
    "print(round(((WL_L_spreadL_fav['L_while_fav_and_predict_lose_spread'].sum())/(WL_L_spreadL_fav['predicted_L_and_predict_lose_spread_when_fav'].sum())),2))"
   ]
  },
  {
   "cell_type": "markdown",
   "metadata": {},
   "source": [
    "## WL Model predicted Loss while Home Team Underdog and Predicted to Beat Spread"
   ]
  },
  {
   "cell_type": "code",
   "execution_count": 94,
   "metadata": {},
   "outputs": [],
   "source": [
    "joined_df['L_while_dog_and_predict_beat_spread']=0\n",
    "joined_df.loc[(joined_df['win_or_loss']==joined_df['Prediction'])\n",
    "              & (joined_df['Prediction'] == 'L') & (joined_df['home_line_open']>0 ) \n",
    "              & (joined_df['Prediction_Class']==0) & (joined_df['Home_Team_Lost_Spread']==0)\n",
    "              ,'L_while_dog_and_predict_beat_spread']=1"
   ]
  },
  {
   "cell_type": "code",
   "execution_count": 95,
   "metadata": {},
   "outputs": [],
   "source": [
    "joined_df['predicted_L_and_predict_beat_spread_when_underdog']=0\n",
    "joined_df.loc[ (joined_df['Prediction'] == 'L') & (joined_df['home_line_open']>0 ) \n",
    "              & (joined_df['Prediction_Class']==0) \n",
    "              ,'predicted_L_and_predict_beat_spread_when_underdog']=1"
   ]
  },
  {
   "cell_type": "code",
   "execution_count": 96,
   "metadata": {},
   "outputs": [
    {
     "name": "stdout",
     "output_type": "stream",
     "text": [
      "4\n",
      "23\n",
      "0.17\n"
     ]
    }
   ],
   "source": [
    "WL_L_spreadW_dog = joined_df.loc[(joined_df['predicted_L_and_predict_beat_spread_when_underdog']==1)]\n",
    "print(WL_L_spreadW_dog['L_while_dog_and_predict_beat_spread'].sum())\n",
    "print(WL_L_spreadW_dog['predicted_L_and_predict_beat_spread_when_underdog'].sum())\n",
    "print(round(((WL_L_spreadW_dog['L_while_dog_and_predict_beat_spread'].sum())/(WL_L_spreadW_dog['predicted_L_and_predict_beat_spread_when_underdog'].sum())),2))"
   ]
  }
 ],
 "metadata": {
  "kernelspec": {
   "display_name": "Python 3",
   "language": "python",
   "name": "python3"
  },
  "language_info": {
   "codemirror_mode": {
    "name": "ipython",
    "version": 3
   },
   "file_extension": ".py",
   "mimetype": "text/x-python",
   "name": "python",
   "nbconvert_exporter": "python",
   "pygments_lexer": "ipython3",
   "version": "3.7.3"
  }
 },
 "nbformat": 4,
 "nbformat_minor": 2
}
